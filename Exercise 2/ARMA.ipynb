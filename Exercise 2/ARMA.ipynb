{
 "cells": [
  {
   "cell_type": "markdown",
   "metadata": {},
   "source": [
    "# ARMA task\n",
    "Learn an autoregressive moving average model (see Wikipedia for an introduction if unfamiliar) for at least 5 individual sensors (pick them in a sensible way!). Most statistical packages (R, statsmodels in Python) contain standard algorithm for fitting these models from training data. Use autocorrelation plots in order to identify the order of the ARMA models. The parameters can be determined using Akaike’s Information Criterion (AIC) or another model selection method. Note that there exists a wide range of ARMA variants; you only have to use the basic model.\n",
    "\n",
    "Decide how to set the detection threshold sensibly. Study some of the anomalies detected anomalies. What kind of anomalies can you detect using ARMA models? Which sensors can be modeled effectively using ARMA?\n"
   ]
  },
  {
   "cell_type": "code",
   "execution_count": 7,
   "metadata": {},
   "outputs": [],
   "source": [
    "import pandas as pd\n",
    "import matplotlib.pyplot as plt\n",
    "import statsmodels.api as sm"
   ]
  },
  {
   "cell_type": "code",
   "execution_count": 4,
   "metadata": {},
   "outputs": [
    {
     "data": {
      "text/html": [
       "<div>\n",
       "<style scoped>\n",
       "    .dataframe tbody tr th:only-of-type {\n",
       "        vertical-align: middle;\n",
       "    }\n",
       "\n",
       "    .dataframe tbody tr th {\n",
       "        vertical-align: top;\n",
       "    }\n",
       "\n",
       "    .dataframe thead th {\n",
       "        text-align: right;\n",
       "    }\n",
       "</style>\n",
       "<table border=\"1\" class=\"dataframe\">\n",
       "  <thead>\n",
       "    <tr style=\"text-align: right;\">\n",
       "      <th></th>\n",
       "      <th>DATETIME</th>\n",
       "      <th>L_T1</th>\n",
       "      <th>L_T2</th>\n",
       "      <th>L_T3</th>\n",
       "      <th>L_T4</th>\n",
       "      <th>L_T5</th>\n",
       "      <th>L_T6</th>\n",
       "      <th>L_T7</th>\n",
       "      <th>F_PU1</th>\n",
       "      <th>S_PU1</th>\n",
       "      <th>...</th>\n",
       "      <th>P_J256</th>\n",
       "      <th>P_J289</th>\n",
       "      <th>P_J415</th>\n",
       "      <th>P_J302</th>\n",
       "      <th>P_J306</th>\n",
       "      <th>P_J307</th>\n",
       "      <th>P_J317</th>\n",
       "      <th>P_J14</th>\n",
       "      <th>P_J422</th>\n",
       "      <th>ATT_FLAG</th>\n",
       "    </tr>\n",
       "  </thead>\n",
       "  <tbody>\n",
       "    <tr>\n",
       "      <th>0</th>\n",
       "      <td>2014-01-06</td>\n",
       "      <td>0.509730</td>\n",
       "      <td>2.049003</td>\n",
       "      <td>3.191145</td>\n",
       "      <td>2.792634</td>\n",
       "      <td>2.656091</td>\n",
       "      <td>5.316831</td>\n",
       "      <td>1.562321</td>\n",
       "      <td>98.998444</td>\n",
       "      <td>1</td>\n",
       "      <td>...</td>\n",
       "      <td>87.605774</td>\n",
       "      <td>26.495605</td>\n",
       "      <td>84.206619</td>\n",
       "      <td>18.901676</td>\n",
       "      <td>81.983734</td>\n",
       "      <td>18.791777</td>\n",
       "      <td>67.125603</td>\n",
       "      <td>29.387470</td>\n",
       "      <td>28.487471</td>\n",
       "      <td>0</td>\n",
       "    </tr>\n",
       "    <tr>\n",
       "      <th>1</th>\n",
       "      <td>2014-01-06</td>\n",
       "      <td>0.412580</td>\n",
       "      <td>2.009072</td>\n",
       "      <td>3.642565</td>\n",
       "      <td>2.831673</td>\n",
       "      <td>3.126387</td>\n",
       "      <td>5.494855</td>\n",
       "      <td>1.852043</td>\n",
       "      <td>99.095901</td>\n",
       "      <td>1</td>\n",
       "      <td>...</td>\n",
       "      <td>89.448341</td>\n",
       "      <td>26.487326</td>\n",
       "      <td>85.900085</td>\n",
       "      <td>18.849329</td>\n",
       "      <td>82.150589</td>\n",
       "      <td>18.739643</td>\n",
       "      <td>67.178696</td>\n",
       "      <td>29.354256</td>\n",
       "      <td>28.454256</td>\n",
       "      <td>0</td>\n",
       "    </tr>\n",
       "    <tr>\n",
       "      <th>2</th>\n",
       "      <td>2014-01-06</td>\n",
       "      <td>0.320112</td>\n",
       "      <td>1.986093</td>\n",
       "      <td>4.140192</td>\n",
       "      <td>3.256733</td>\n",
       "      <td>3.574601</td>\n",
       "      <td>5.500000</td>\n",
       "      <td>2.246126</td>\n",
       "      <td>98.420959</td>\n",
       "      <td>1</td>\n",
       "      <td>...</td>\n",
       "      <td>91.056114</td>\n",
       "      <td>26.487364</td>\n",
       "      <td>86.582474</td>\n",
       "      <td>19.597170</td>\n",
       "      <td>83.988579</td>\n",
       "      <td>19.496712</td>\n",
       "      <td>72.425293</td>\n",
       "      <td>29.354538</td>\n",
       "      <td>28.454538</td>\n",
       "      <td>0</td>\n",
       "    </tr>\n",
       "    <tr>\n",
       "      <th>3</th>\n",
       "      <td>2014-01-06</td>\n",
       "      <td>0.332879</td>\n",
       "      <td>2.009203</td>\n",
       "      <td>4.673478</td>\n",
       "      <td>3.744497</td>\n",
       "      <td>3.952379</td>\n",
       "      <td>5.500000</td>\n",
       "      <td>3.203573</td>\n",
       "      <td>97.575172</td>\n",
       "      <td>1</td>\n",
       "      <td>...</td>\n",
       "      <td>92.594353</td>\n",
       "      <td>26.575815</td>\n",
       "      <td>88.020546</td>\n",
       "      <td>26.028486</td>\n",
       "      <td>64.670486</td>\n",
       "      <td>25.922703</td>\n",
       "      <td>76.275040</td>\n",
       "      <td>29.449951</td>\n",
       "      <td>28.549952</td>\n",
       "      <td>0</td>\n",
       "    </tr>\n",
       "    <tr>\n",
       "      <th>4</th>\n",
       "      <td>2014-01-06</td>\n",
       "      <td>0.483496</td>\n",
       "      <td>2.089049</td>\n",
       "      <td>5.237937</td>\n",
       "      <td>4.409456</td>\n",
       "      <td>3.504676</td>\n",
       "      <td>5.500000</td>\n",
       "      <td>4.439714</td>\n",
       "      <td>97.351059</td>\n",
       "      <td>1</td>\n",
       "      <td>...</td>\n",
       "      <td>94.473099</td>\n",
       "      <td>26.723457</td>\n",
       "      <td>90.422462</td>\n",
       "      <td>26.209970</td>\n",
       "      <td>64.746620</td>\n",
       "      <td>26.104692</td>\n",
       "      <td>76.703529</td>\n",
       "      <td>29.574265</td>\n",
       "      <td>28.674263</td>\n",
       "      <td>0</td>\n",
       "    </tr>\n",
       "  </tbody>\n",
       "</table>\n",
       "<p>5 rows × 45 columns</p>\n",
       "</div>"
      ],
      "text/plain": [
       "    DATETIME      L_T1      L_T2      L_T3      L_T4      L_T5      L_T6  \\\n",
       "0 2014-01-06  0.509730  2.049003  3.191145  2.792634  2.656091  5.316831   \n",
       "1 2014-01-06  0.412580  2.009072  3.642565  2.831673  3.126387  5.494855   \n",
       "2 2014-01-06  0.320112  1.986093  4.140192  3.256733  3.574601  5.500000   \n",
       "3 2014-01-06  0.332879  2.009203  4.673478  3.744497  3.952379  5.500000   \n",
       "4 2014-01-06  0.483496  2.089049  5.237937  4.409456  3.504676  5.500000   \n",
       "\n",
       "       L_T7      F_PU1  S_PU1    ...        P_J256     P_J289     P_J415  \\\n",
       "0  1.562321  98.998444      1    ...     87.605774  26.495605  84.206619   \n",
       "1  1.852043  99.095901      1    ...     89.448341  26.487326  85.900085   \n",
       "2  2.246126  98.420959      1    ...     91.056114  26.487364  86.582474   \n",
       "3  3.203573  97.575172      1    ...     92.594353  26.575815  88.020546   \n",
       "4  4.439714  97.351059      1    ...     94.473099  26.723457  90.422462   \n",
       "\n",
       "      P_J302     P_J306     P_J307     P_J317      P_J14     P_J422  ATT_FLAG  \n",
       "0  18.901676  81.983734  18.791777  67.125603  29.387470  28.487471         0  \n",
       "1  18.849329  82.150589  18.739643  67.178696  29.354256  28.454256         0  \n",
       "2  19.597170  83.988579  19.496712  72.425293  29.354538  28.454538         0  \n",
       "3  26.028486  64.670486  25.922703  76.275040  29.449951  28.549952         0  \n",
       "4  26.209970  64.746620  26.104692  76.703529  29.574265  28.674263         0  \n",
       "\n",
       "[5 rows x 45 columns]"
      ]
     },
     "execution_count": 4,
     "metadata": {},
     "output_type": "execute_result"
    }
   ],
   "source": [
    "def parse_date(x):    \n",
    "    date = str(x).split(' ')[0]\n",
    "    time_stamp = pd.datetime.strptime(date,'%d/%m/%y')\n",
    "    return time_stamp\n",
    "df_1 = pd.read_csv('BATADAL_dataset_training_1.csv',parse_dates=[0],date_parser=parse_date, skipinitialspace=True)\n",
    "df_2 = pd.read_csv('BATADAL_dataset_training_2.csv',parse_dates=[0],date_parser=parse_date, skipinitialspace=True)\n",
    "df_1.head()"
   ]
  },
  {
   "cell_type": "markdown",
   "metadata": {},
   "source": [
    "## Check autocorrelation\n",
    "Apply Durbin Watson test to examine autocorrelation in the data. The test will return a value between 0 and 4.\n",
    "- A value of 2.0 means there is no autocorrelation detected in the sample. \n",
    "- Values from zero to 2.0 indicate positive autocorrelation.\n",
    "- Values from 2.0 to 4.0 indicate negative autocorrelation."
   ]
  },
  {
   "cell_type": "code",
   "execution_count": 9,
   "metadata": {},
   "outputs": [
    {
     "data": {
      "text/plain": [
       "0.006432171620535719"
      ]
     },
     "execution_count": 9,
     "metadata": {},
     "output_type": "execute_result"
    }
   ],
   "source": [
    "sm.stats.durbin_watson(df_1['L_T1'])"
   ]
  },
  {
   "cell_type": "markdown",
   "metadata": {},
   "source": [
    "## Identifying the order of differencing(d) in ARIMA model"
   ]
  },
  {
   "cell_type": "code",
   "execution_count": null,
   "metadata": {},
   "outputs": [],
   "source": []
  },
  {
   "cell_type": "markdown",
   "metadata": {},
   "source": [
    "## Diagnosing ACF and PACF plots"
   ]
  },
  {
   "cell_type": "code",
   "execution_count": 8,
   "metadata": {},
   "outputs": [
    {
     "data": {
      "image/png": "[encoded data removed]",
      "text/plain": [
       "<Figure size 864x576 with 2 Axes>"
      ]
     },
     "metadata": {
      "needs_background": "light"
     },
     "output_type": "display_data"
    }
   ],
   "source": [
    "fig = plt.figure(figsize=(12,8))\n",
    "ax1 = fig.add_subplot(211)\n",
    "fig = sm.graphics.tsa.plot_acf(df_1['L_T1'], lags=40, ax=ax1)\n",
    "ax2 = fig.add_subplot(212)\n",
    "fig = sm.graphics.tsa.plot_pacf(df_1['L_T1'], lags=40, ax=ax2)"
   ]
  },
  {
   "cell_type": "code",
   "execution_count": null,
   "metadata": {},
   "outputs": [],
   "source": []
  }
 ],
 "metadata": {
  "kernelspec": {
   "display_name": "Python 3",
   "language": "python",
   "name": "python3"
  },
  "language_info": {
   "codemirror_mode": {
    "name": "ipython",
    "version": 3
   },
   "file_extension": ".py",
   "mimetype": "text/x-python",
   "name": "python",
   "nbconvert_exporter": "python",
   "pygments_lexer": "ipython3",
   "version": "3.7.1"
  }
 },
 "nbformat": 4,
 "nbformat_minor": 2
}
