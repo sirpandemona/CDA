{
 "cells": [
  {
   "cell_type": "code",
   "execution_count": 26,
   "metadata": {
    "colab": {},
    "colab_type": "code",
    "id": "9WhPj4Qpf4Vr"
   },
   "outputs": [],
   "source": [
    "from loaddata import *\n",
    "import matplotlib\n",
    "import matplotlib.pyplot as plt\n",
    "from sklearn.preprocessing import LabelEncoder\n",
    "from sklearn.cluster import KMeans\n",
    "from scipy.spatial.distance import cdist\n",
    "from nltk import ngrams\n",
    "\n",
    "import numpy as np\n",
    "import math"
   ]
  },
  {
   "cell_type": "code",
   "execution_count": 2,
   "metadata": {
    "colab": {
     "base_uri": "https://localhost:8080/",
     "height": 204
    },
    "colab_type": "code",
    "id": "zEY0yXocc8Bv",
    "outputId": "a08b7816-34eb-4916-b7d5-81fba2ed8927"
   },
   "outputs": [
    {
     "data": {
      "text/html": [
       "<div>\n",
       "<style scoped>\n",
       "    .dataframe tbody tr th:only-of-type {\n",
       "        vertical-align: middle;\n",
       "    }\n",
       "\n",
       "    .dataframe tbody tr th {\n",
       "        vertical-align: top;\n",
       "    }\n",
       "\n",
       "    .dataframe thead th {\n",
       "        text-align: right;\n",
       "    }\n",
       "</style>\n",
       "<table border=\"1\" class=\"dataframe\">\n",
       "  <thead>\n",
       "    <tr style=\"text-align: right;\">\n",
       "      <th></th>\n",
       "      <th>Date_flow</th>\n",
       "      <th>start</th>\n",
       "      <th>Durat</th>\n",
       "      <th>Prot</th>\n",
       "      <th>Flags</th>\n",
       "      <th>Tos</th>\n",
       "      <th>Packets</th>\n",
       "      <th>Bytes</th>\n",
       "      <th>Flows</th>\n",
       "      <th>Label</th>\n",
       "      <th>src_ip</th>\n",
       "      <th>src_port</th>\n",
       "      <th>dst_ip</th>\n",
       "      <th>dst_port</th>\n",
       "    </tr>\n",
       "  </thead>\n",
       "  <tbody>\n",
       "    <tr>\n",
       "      <th>20</th>\n",
       "      <td>2011-08-18</td>\n",
       "      <td>10:19:13.347</td>\n",
       "      <td>4.985</td>\n",
       "      <td>TCP</td>\n",
       "      <td>PA_</td>\n",
       "      <td>0</td>\n",
       "      <td>91</td>\n",
       "      <td>86277</td>\n",
       "      <td>1</td>\n",
       "      <td>LEGITIMATE</td>\n",
       "      <td>147.32.80.13</td>\n",
       "      <td>80</td>\n",
       "      <td>147.32.85.88</td>\n",
       "      <td>56949</td>\n",
       "    </tr>\n",
       "    <tr>\n",
       "      <th>51</th>\n",
       "      <td>2011-08-18</td>\n",
       "      <td>10:19:13.392</td>\n",
       "      <td>0.000</td>\n",
       "      <td>TCP</td>\n",
       "      <td>A_</td>\n",
       "      <td>0</td>\n",
       "      <td>1</td>\n",
       "      <td>66</td>\n",
       "      <td>1</td>\n",
       "      <td>LEGITIMATE</td>\n",
       "      <td>147.32.86.110</td>\n",
       "      <td>48102</td>\n",
       "      <td>74.125.232.214</td>\n",
       "      <td>443</td>\n",
       "    </tr>\n",
       "    <tr>\n",
       "      <th>57</th>\n",
       "      <td>2011-08-18</td>\n",
       "      <td>10:19:13.411</td>\n",
       "      <td>4.921</td>\n",
       "      <td>TCP</td>\n",
       "      <td>A_</td>\n",
       "      <td>0</td>\n",
       "      <td>49</td>\n",
       "      <td>3234</td>\n",
       "      <td>1</td>\n",
       "      <td>LEGITIMATE</td>\n",
       "      <td>147.32.85.88</td>\n",
       "      <td>56949</td>\n",
       "      <td>147.32.80.13</td>\n",
       "      <td>80</td>\n",
       "    </tr>\n",
       "    <tr>\n",
       "      <th>73</th>\n",
       "      <td>2011-08-18</td>\n",
       "      <td>10:19:13.460</td>\n",
       "      <td>4.742</td>\n",
       "      <td>TCP</td>\n",
       "      <td>A_</td>\n",
       "      <td>0</td>\n",
       "      <td>118</td>\n",
       "      <td>7080</td>\n",
       "      <td>1</td>\n",
       "      <td>LEGITIMATE</td>\n",
       "      <td>147.32.84.59</td>\n",
       "      <td>2768</td>\n",
       "      <td>74.125.108.208</td>\n",
       "      <td>80</td>\n",
       "    </tr>\n",
       "    <tr>\n",
       "      <th>75</th>\n",
       "      <td>2011-08-18</td>\n",
       "      <td>10:19:13.486</td>\n",
       "      <td>0.000</td>\n",
       "      <td>TCP</td>\n",
       "      <td>A_</td>\n",
       "      <td>0</td>\n",
       "      <td>1</td>\n",
       "      <td>60</td>\n",
       "      <td>1</td>\n",
       "      <td>LEGITIMATE</td>\n",
       "      <td>147.32.84.59</td>\n",
       "      <td>56058</td>\n",
       "      <td>74.125.232.215</td>\n",
       "      <td>443</td>\n",
       "    </tr>\n",
       "  </tbody>\n",
       "</table>\n",
       "</div>"
      ],
      "text/plain": [
       "     Date_flow         start  Durat Prot Flags  Tos  Packets  Bytes  Flows  \\\n",
       "20  2011-08-18  10:19:13.347  4.985  TCP   PA_    0       91  86277      1   \n",
       "51  2011-08-18  10:19:13.392  0.000  TCP    A_    0        1     66      1   \n",
       "57  2011-08-18  10:19:13.411  4.921  TCP    A_    0       49   3234      1   \n",
       "73  2011-08-18  10:19:13.460  4.742  TCP    A_    0      118   7080      1   \n",
       "75  2011-08-18  10:19:13.486  0.000  TCP    A_    0        1     60      1   \n",
       "\n",
       "         Label         src_ip src_port          dst_ip dst_port  \n",
       "20  LEGITIMATE   147.32.80.13       80    147.32.85.88    56949  \n",
       "51  LEGITIMATE  147.32.86.110    48102  74.125.232.214      443  \n",
       "57  LEGITIMATE   147.32.85.88    56949    147.32.80.13       80  \n",
       "73  LEGITIMATE   147.32.84.59     2768  74.125.108.208       80  \n",
       "75  LEGITIMATE   147.32.84.59    56058  74.125.232.215      443  "
      ]
     },
     "execution_count": 2,
     "metadata": {},
     "output_type": "execute_result"
    }
   ],
   "source": [
    "# Load scenario 10 data\n",
    "df = load_data('datasets/capture20110818.pcap.netflow.labeled')\n",
    "# Remove background flows\n",
    "df = df.loc[df['Label'] != 'Background']\n",
    "# Reset index\n",
    "df.reset_index(drop=True)\n",
    "df.head()"
   ]
  },
  {
   "cell_type": "code",
   "execution_count": 3,
   "metadata": {
    "colab": {
     "base_uri": "https://localhost:8080/",
     "height": 908
    },
    "colab_type": "code",
    "id": "qf7VxLqTf4V-",
    "outputId": "7ac96b37-305c-4840-92f6-bb7fdb7c3b80"
   },
   "outputs": [
    {
     "name": "stdout",
     "output_type": "stream",
     "text": [
      "---------- Netflows from infected hosts statistics----------\n",
      "              Durat      Tos       Packets          Bytes    Flows\n",
      "count  19889.000000  19889.0  19889.000000   19889.000000  19889.0\n",
      "mean       0.551279      0.0     15.838705   14104.124943      1.0\n",
      "std        1.436274      0.0    102.152312   84291.197116      0.0\n",
      "min        0.000000      0.0      1.000000      60.000000      1.0\n",
      "25%        0.000000      0.0      1.000000    1066.000000      1.0\n",
      "50%        0.000000      0.0      1.000000    1066.000000      1.0\n",
      "75%        0.000000      0.0      1.000000    1066.000000      1.0\n",
      "max        4.999000      0.0   1000.000000  787188.000000      1.0\n",
      "---------- Netflows from normal hosts statistics ----------\n",
      "              Durat      Tos       Packets         Bytes    Flows\n",
      "count  39925.000000  39925.0  39925.000000  3.992500e+04  39925.0\n",
      "mean       0.356154      0.0     11.064596  8.127969e+03      1.0\n",
      "std        1.045342      0.0    119.777720  1.236821e+05      0.0\n",
      "min        0.000000      0.0      1.000000  6.000000e+01      1.0\n",
      "25%        0.000000      0.0      1.000000  6.600000e+01      1.0\n",
      "50%        0.000000      0.0      1.000000  8.100000e+01      1.0\n",
      "75%        0.037000      0.0      4.000000  3.330000e+02      1.0\n",
      "max        4.999000      0.0   5206.000000  7.762895e+06      1.0\n"
     ]
    },
    {
     "data": {
      "image/png": "[encoded data removed]",
      "text/plain": [
       "<Figure size 576x576 with 1 Axes>"
      ]
     },
     "metadata": {
      "needs_background": "light"
     },
     "output_type": "display_data"
    }
   ],
   "source": [
    "# Encode categorical features \n",
    "# labelencoder = LabelEncoder()\n",
    "# df['Prot'] = labelencoder.fit_transform(df['Prot'])\n",
    "# df['Flags'] = labelencoder.fit_transform(df['Flags'])\n",
    "\n",
    "# Choose infected and normal hosts\n",
    "infected_ip = '147.32.84.165'\n",
    "normal_ip = ['147.32.84.170', '147.32.84.134', '147.32.84.164', '147.32.87.36', '147.32.80.9', '147.32.87.11']\n",
    "\n",
    "# Separate infected and normal netflows\n",
    "normal_df = df.loc[df['src_ip'].isin(normal_ip)]\n",
    "infected_df = df.loc[df['src_ip'] == infected_ip]\n",
    "normal_df.reset_index(drop=True)\n",
    "infected_df.reset_index(drop=True)\n",
    "\n",
    "print(\"---------- Netflows from infected hosts statistics----------\")\n",
    "print(infected_df.describe(include=[np.number]))\n",
    "print(\"---------- Netflows from normal hosts statistics ----------\")\n",
    "print(normal_df.describe(include=[np.number]))\n",
    "\n",
    "# Visualize features\n",
    "plt.figure(figsize=(8,8))\n",
    "plt.scatter(infected_df['Packets'], infected_df['Bytes'], c='blue', alpha=0.5, label='Infected')\n",
    "plt.scatter(normal_df['Packets'], normal_df['Bytes'], c='red', alpha=0.5, label='Normal')\n",
    "plt.xlabel(\"Packets\")\n",
    "plt.ylabel(\"Bytes\")\n",
    "# plt.boxplot(infected_df['Packets'])\n",
    "plt.legend()\n",
    "plt.show()\n"
   ]
  },
  {
   "cell_type": "code",
   "execution_count": 4,
   "metadata": {
    "colab": {
     "base_uri": "https://localhost:8080/",
     "height": 573
    },
    "colab_type": "code",
    "id": "p_ykd64bf4WI",
    "outputId": "39db715e-e6b1-4fbd-f946-480e2e0e92a6"
   },
   "outputs": [
    {
     "data": {
      "image/png": "[encoded data removed]",
      "text/plain": [
       "<Figure size 432x288 with 1 Axes>"
      ]
     },
     "metadata": {
      "needs_background": "light"
     },
     "output_type": "display_data"
    },
    {
     "data": {
      "image/png": "[encoded data removed]",
      "text/plain": [
       "<Figure size 432x288 with 1 Axes>"
      ]
     },
     "metadata": {
      "needs_background": "light"
     },
     "output_type": "display_data"
    }
   ],
   "source": [
    "def elbow(feature):\n",
    "  Sum_of_squared_distances = []\n",
    "  K = range(1,15)\n",
    "  for k in K:\n",
    "      km = KMeans(n_clusters=k)\n",
    "      km = km.fit(df[feature].values.reshape(-1,1))\n",
    "      center = km.cluster_centers_\n",
    "      Sum_of_squared_distances.append(km.inertia_)\n",
    "\n",
    "  plt.plot(K, Sum_of_squared_distances, 'bx-')\n",
    "  plt.xlabel('k')\n",
    "  plt.ylabel('Sum_of_squared_distances')\n",
    "  plt.title('Elbow Method For Optimal k Of Feature %s' % feature)\n",
    "  plt.savefig('elbow_%s' % feature)\n",
    "  plt.show()\n",
    "  \n",
    "elbow('Bytes')\n",
    "elbow('Packets')"
   ]
  },
  {
   "cell_type": "code",
   "execution_count": 5,
   "metadata": {
    "colab": {},
    "colab_type": "code",
    "id": "s9xvjz5WjB3G"
   },
   "outputs": [],
   "source": [
    "# Function to get values at n-th percentiles from the given feature\n",
    "# e.g. bins = 5, will return 20 40 60 80 100th percentiles\n",
    "def get_percentile_values(bins, feature):\n",
    "  percentile = []\n",
    "\n",
    "  # Copy data to a list and sort it\n",
    "  values = df[feature].tolist()\n",
    "  values.sort()\n",
    "\n",
    "  for i in range(1, bins + 1):\n",
    "    percent = int((((100/bins) * i)/100) * len(values))\n",
    "    percentile.append(values[percent - 1])\n",
    "\n",
    "  print(\"The percentile of Feature %s with %d bins is %s\" % (feature, bins, percentile))\n",
    "  return percentile\n",
    "\n",
    "# Map a value to n-th percentile\n",
    "def encode_percentile(value, percentile):\n",
    "  length = len(percentile)\n",
    "  code = length - 1\n",
    "  \n",
    "  for i in range(0, length):\n",
    "    if(value <= percentile[i]):\n",
    "      code = i\n",
    "      break\n",
    "  return code\n",
    "\n",
    "def netflow_encoding(feature_values, bins_value):\n",
    "  spaceSize = np.prod(bins_value)\n",
    "  code = 0\n",
    "  \n",
    "  for i in range(len(bins_value)):\n",
    "    code += feature_values[i] * spaceSize / bins_value[i]\n",
    "    spaceSize /= bins_value[i]\n",
    "  \n",
    "  return code"
   ]
  },
  {
   "cell_type": "code",
   "execution_count": 6,
   "metadata": {
    "colab": {
     "base_uri": "https://localhost:8080/",
     "height": 51
    },
    "colab_type": "code",
    "id": "NXKy8hH_I1hn",
    "outputId": "ab58839c-c218-4312-a7a0-f4cb13db20fd"
   },
   "outputs": [
    {
     "name": "stdout",
     "output_type": "stream",
     "text": [
      "The percentile of Feature Bytes with 5 bins is [132, 1066, 1066, 2132, 24972468]\n",
      "The percentile of Feature Packets with 5 bins is [1, 1, 2, 5, 16937]\n"
     ]
    }
   ],
   "source": [
    "df['Bytes_code'] = 0\n",
    "percentile = get_percentile_values(5, 'Bytes')\n",
    "df['Bytes_code'] = df['Bytes'].apply(encode_percentile, args=[percentile])\n",
    "\n",
    "df['Packets_code'] = 0\n",
    "percentile = get_percentile_values(5, 'Packets')\n",
    "df['Packets_code'] = df['Packets'].apply(encode_percentile, args=[percentile])\n"
   ]
  },
  {
   "cell_type": "code",
   "execution_count": 7,
   "metadata": {
    "colab": {
     "base_uri": "https://localhost:8080/",
     "height": 281
    },
    "colab_type": "code",
    "id": "yVolTdoDLpCM",
    "outputId": "8bf6d8b0-dda4-4f65-bcc3-019a4684f9ea"
   },
   "outputs": [
    {
     "data": {
      "image/png": "[encoded data removed]",
      "text/plain": [
       "<Figure size 432x288 with 1 Axes>"
      ]
     },
     "metadata": {
      "needs_background": "light"
     },
     "output_type": "display_data"
    }
   ],
   "source": [
    "# Apply discretization to all hosts\n",
    "discretize_df = df[['Bytes_code', 'Packets_code']]\n",
    "result = discretize_df.apply(lambda x: netflow_encoding(x.tolist(), [5, 7]), axis = 1)\n",
    "\n",
    "df['result'] = 0\n",
    "df['result'] = result.values\n",
    "\n",
    "# Separate flows from normal hosts and infected hosts\n",
    "all_infected_ips = ['147.32.84.165', '147.32.84.191', '147.32.84.192']\n",
    "infected_df = df.loc[df['src_ip'].isin(all_infected_ips)]\n",
    "normal_df = df.loc[df['src_ip'].isin(normal_ip)]\n",
    "normal_df.reset_index(drop=True)\n",
    "infected_df.reset_index(drop=True)\n",
    "\n",
    "# Visualize\n",
    "plt.hist(normal_df['result'], color='r', label='Normal')\n",
    "plt.hist(infected_df['result'], color='g', label='Infected')\n",
    "plt.legend()\n",
    "plt.gca().set(title='Histogram of discretization', xlabel='Encode of bytes and packets', ylabel='Count')\n",
    "plt.show()"
   ]
  },
  {
   "cell_type": "code",
   "execution_count": 64,
   "metadata": {},
   "outputs": [],
   "source": [
    "#Create sequential probabilistic model using ngrams using an infected host, and validate this model on all other hosts\n",
    "def ngram_prob_model(training_data, test_data,sw_size, threshold):\n",
    "    #Define the possible states\n",
    "    states = range(0,35)\n",
    "        \n",
    "    #Create a list of all bigrams in the state sequence\n",
    "    bi_grams = list(ngrams(training_data, 2))\n",
    "    #Create a list of all possible bigrams\n",
    "    comb_states = []\n",
    "    for state_1 in states:\n",
    "        for state_2 in states:\n",
    "            pair = (state_1, state_2)\n",
    "            comb_states.append(pair)\n",
    "    #Create a from->to transition pair for each bigram in the state sequence\n",
    "    comb_bi_grams = ngrams(bi_grams, 2)\n",
    "    p_dict = {}\n",
    "    p_dict_start = {}\n",
    "\n",
    "    #Smoothe and initialize the transition matrix and init matrix\n",
    "    for state in comb_states:\n",
    "        p_dict[state] = {}\n",
    "        p_dict_start[state] = 1\n",
    "        for to_state in comb_states:\n",
    "            p_dict[state][to_state] = 1\n",
    "\n",
    "    #Add all starting states to init matrix\n",
    "    total_init = 0\n",
    "    for state in bi_grams:\n",
    "        p_dict_start[state] = p_dict_start[state]+1\n",
    "        total_init = total_init +1    \n",
    "    total_init = total_init + len(comb_states)\n",
    "\n",
    "    #Add all transition pairs to transition matrix\n",
    "    for pair in comb_bi_grams:\n",
    "        (src, dest)= pair\n",
    "        p_dict[src][dest] = p_dict[src][dest]+1\n",
    "\n",
    "    #Normalize both matrics\n",
    "    for src in comb_states:\n",
    "        p_dict_start[src] = p_dict_start[src]/total_init\n",
    "        total_trans = 0\n",
    "        for dest in comb_states:\n",
    "            total_trans = total_trans + p_dict[src][dest]\n",
    "        for dest in comb_states:\n",
    "            p_dict[src][dest] = p_dict[src][dest]/total_trans\n",
    "    \n",
    "    infected_hosts = []\n",
    "    #Iterate over each host in the test data to match profiles\n",
    "    grouped = test_data.groupby(by='src_ip')\n",
    "    for host, relevant_flows in grouped:\n",
    "        #Get the discretionized data from the flows and create bigrams\n",
    "        test_states = relevant_flows['result'].values\n",
    "        test_bigrams = list(ngrams(test_states, 2))\n",
    "        n = len(test_bigrams)  \n",
    "        max_lkhd = 0\n",
    "        #Iterate over all sliding windows and calculate the likelihood of the sequence in the sliding window \n",
    "        #according to the Markov matrics\n",
    "        for i in range(0,n-sw_size):\n",
    "            slc = test_bigrams[i:i+sw_size]\n",
    "            p = p_dict_start[slc[0]]\n",
    "            trans = ngrams(slc, 2)\n",
    "            for transition in trans:\n",
    "                (src, dst) = transition\n",
    "                p = p * p_dict[src][dest] \n",
    "            #Determine the maximum likelihood for all sliding windows\n",
    "            if(p> max_lkhd):\n",
    "                max_lkhd = p \n",
    "        #If the maximum likelihood is higher than the threshold, mark the host as infected        \n",
    "        if(max_lkhd>threshold):\n",
    "            infected_hosts.append(host)\n",
    "    return infected_hosts\n",
    "\n",
    "#Determine the optimum values for the sliding window size and threshold parameters\n",
    "def test_params(training_data, test_data, infected_hosts):\n",
    "    #Determine ranges in which these values lie\n",
    "    cand_t = 10.**(np.asarray(range(-70,-50))/2)\n",
    "    cand_sw = range(9,12)\n",
    "    tps = np.zeros((len(cand_t), len(cand_sw)))\n",
    "    fps= np.zeros((len(cand_t), len(cand_sw)))\n",
    "    \n",
    "    best_params = (0,0)\n",
    "    n_infect = len(infected_hosts)\n",
    "    least_fps = len(test_data)\n",
    "    t = 0\n",
    "    #Iterate over all combinations for the parameter values\n",
    "    for threshold in cand_t:\n",
    "        sw = 0\n",
    "        for sw_size in cand_sw:\n",
    "            #Get the amount of true and false positives for the prob-model given the parametesr\n",
    "            cand_infected = ngram_prob_model(training_data, test_data,sw_size, threshold)\n",
    "            TP = 0\n",
    "            FP = 0\n",
    "            for host in cand_infected:\n",
    "                if host in infected_hosts:\n",
    "                    TP = TP +1\n",
    "                else:\n",
    "                    FP = FP+1\n",
    "            tps[t][sw] = TP\n",
    "            fps[t][sw] = FP\n",
    "            \n",
    "            #If all true positives are found, and the amount of false positives is lower than any of the previous iterations\n",
    "            #Add the current values as best parameter values\n",
    "            if TP == n_infect and FP < least_fps:\n",
    "                least_fps = FP\n",
    "                best_params = (threshold, sw_size)\n",
    "            \n",
    "            sw = sw+1\n",
    "        t = t+1\n",
    "    return best_params\n"
   ]
  },
  {
   "cell_type": "code",
   "execution_count": 65,
   "metadata": {},
   "outputs": [
    {
     "name": "stdout",
     "output_type": "stream",
     "text": [
      "TP: 9\n",
      "FP: 34\n",
      "FN: 0\n",
      "TN: 487\n",
      "FP Rate : 0.06525911708253358\n",
      "Accuracy:0.9358490566037736\n",
      "Recall:1.0\n",
      "Specificity:0.9347408829174664\n",
      "Precision:0.20930232558139536\n"
     ]
    }
   ],
   "source": [
    "#Get the training and test data\n",
    "training_data = df[df['src_ip']==infected_ip]['result'].values\n",
    "test_data = df[df['src_ip']!=infected_ip]\n",
    "infected_hosts = [\"147.32.84.191\",\"147.32.84.192\",\"147.32.84.193\",\"147.32.84.204\",\"147.32.84.205\",\"147.32.84.206\",\"147.32.84.207\",\"147.32.84.208\",\"147.32.84.209\"]\n",
    "\n",
    "#Call the sequential probability function with the best parameters \n",
    "(threshold, sw_size) = test_params(training_data, test_data, infected_hosts)\n",
    "cand_infected = ngram_prob_model(training_data, test_data,sw_size, threshold)\n",
    "TP = 0\n",
    "FP = 0\n",
    "for host in cand_infected:\n",
    "    if host in infected_hosts:\n",
    "        TP = TP +1\n",
    "    else:\n",
    "        FP = FP+1\n",
    "FN = len(infected_hosts)- TP\n",
    "TN = (len(test_data['src_ip'].unique())) - FP\n",
    "\n",
    "#Calculate metrics\n",
    "\n",
    "acc = (TP+TN)/(TP+FP+TN+FN) #Accuracy\n",
    "recall = TP/(TP+FN) #Recall\n",
    "specif = TN / (FP + TN) #Specificity\n",
    "prec = TP/(TP+FP) #Precision\n",
    "fp_rate = FP/(FP+TN) #False Positive Rate\n",
    "\n",
    "print ('TP: '+ str(TP))\n",
    "print ('FP: '+ str(FP))\n",
    "print ('FN: '+ str(FN))\n",
    "print ('TN: '+ str(TN))\n",
    "print ('FP Rate : '+ str(fp_rate))\n",
    "print('Accuracy:' + str(acc))\n",
    "print('Recall:' + str(recall))\n",
    "print('Specificity:' + str(specif))\n",
    "print('Precision:' + str(prec))\n"
   ]
  },
  {
   "cell_type": "code",
   "execution_count": 63,
   "metadata": {},
   "outputs": [
    {
     "data": {
      "text/plain": [
       "array([[268., 258., 232.],\n",
       "       [268., 258., 222.],\n",
       "       [268., 258., 213.],\n",
       "       [268., 258., 186.],\n",
       "       [268., 257., 156.],\n",
       "       [268., 256.,  34.],\n",
       "       [268., 245.,   0.],\n",
       "       [268., 234.,   0.],\n",
       "       [267., 225.,   0.],\n",
       "       [267., 205.,   0.],\n",
       "       [267., 178.,   0.],\n",
       "       [267.,  43.,   0.],\n",
       "       [254.,   0.,   0.],\n",
       "       [249.,   0.,   0.],\n",
       "       [235.,   0.,   0.],\n",
       "       [216.,   0.,   0.],\n",
       "       [190.,   0.,   0.],\n",
       "       [137.,   0.,   0.],\n",
       "       [ 19.,   0.,   0.],\n",
       "       [  0.,   0.,   0.]])"
      ]
     },
     "execution_count": 63,
     "metadata": {},
     "output_type": "execute_result"
    }
   ],
   "source": [
    "sw_size"
   ]
  },
  {
   "cell_type": "code",
   "execution_count": 56,
   "metadata": {},
   "outputs": [
    {
     "data": {
      "text/plain": [
       "array([-35. , -34.5, -34. , -33.5, -33. , -32.5, -32. , -31.5, -31. ,\n",
       "       -30.5, -30. , -29.5, -29. , -28.5, -28. , -27.5, -27. , -26.5,\n",
       "       -26. , -25.5])"
      ]
     },
     "execution_count": 56,
     "metadata": {},
     "output_type": "execute_result"
    }
   ],
   "source": [
    "np.asarray(range(-70,-50))/2"
   ]
  }
 ],
 "metadata": {
  "colab": {
   "collapsed_sections": [],
   "name": "discretization.ipynb",
   "provenance": [],
   "version": "0.3.2"
  },
  "kernelspec": {
   "display_name": "Python 3",
   "language": "python",
   "name": "python3"
  },
  "language_info": {
   "codemirror_mode": {
    "name": "ipython",
    "version": 3
   },
   "file_extension": ".py",
   "mimetype": "text/x-python",
   "name": "python",
   "nbconvert_exporter": "python",
   "pygments_lexer": "ipython3",
   "version": "3.6.8"
  }
 },
 "nbformat": 4,
 "nbformat_minor": 1
}
