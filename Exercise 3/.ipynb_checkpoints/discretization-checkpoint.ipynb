{
 "cells": [
  {
   "cell_type": "code",
   "execution_count": 0,
   "metadata": {
    "colab": {},
    "colab_type": "code",
    "id": "9WhPj4Qpf4Vr"
   },
   "outputs": [],
   "source": [
    "from loaddata import *\n",
    "import matplotlib\n",
    "import matplotlib.pyplot as plt\n",
    "from sklearn.preprocessing import LabelEncoder\n",
    "from sklearn.cluster import KMeans\n",
    "from scipy.spatial.distance import cdist\n",
    "import numpy as np"
   ]
  },
  {
   "cell_type": "code",
   "execution_count": 33,
   "metadata": {
    "colab": {
     "base_uri": "https://localhost:8080/",
     "height": 204
    },
    "colab_type": "code",
    "id": "zEY0yXocc8Bv",
    "outputId": "a08b7816-34eb-4916-b7d5-81fba2ed8927"
   },
   "outputs": [
    {
     "data": {
      "text/html": [
       "<div>\n",
       "<style scoped>\n",
       "    .dataframe tbody tr th:only-of-type {\n",
       "        vertical-align: middle;\n",
       "    }\n",
       "\n",
       "    .dataframe tbody tr th {\n",
       "        vertical-align: top;\n",
       "    }\n",
       "\n",
       "    .dataframe thead th {\n",
       "        text-align: right;\n",
       "    }\n",
       "</style>\n",
       "<table border=\"1\" class=\"dataframe\">\n",
       "  <thead>\n",
       "    <tr style=\"text-align: right;\">\n",
       "      <th></th>\n",
       "      <th>Date_flow</th>\n",
       "      <th>start</th>\n",
       "      <th>Durat</th>\n",
       "      <th>Prot</th>\n",
       "      <th>Flags</th>\n",
       "      <th>Tos</th>\n",
       "      <th>Packets</th>\n",
       "      <th>Bytes</th>\n",
       "      <th>Flows</th>\n",
       "      <th>Label</th>\n",
       "      <th>src_ip</th>\n",
       "      <th>src_port</th>\n",
       "      <th>dst_ip</th>\n",
       "      <th>dst_port</th>\n",
       "    </tr>\n",
       "  </thead>\n",
       "  <tbody>\n",
       "    <tr>\n",
       "      <th>20</th>\n",
       "      <td>2011-08-18</td>\n",
       "      <td>10:19:13.347</td>\n",
       "      <td>4.985</td>\n",
       "      <td>TCP</td>\n",
       "      <td>PA_</td>\n",
       "      <td>0</td>\n",
       "      <td>91</td>\n",
       "      <td>86277</td>\n",
       "      <td>1</td>\n",
       "      <td>LEGITIMATE</td>\n",
       "      <td>147.32.80.13</td>\n",
       "      <td>80</td>\n",
       "      <td>147.32.85.88</td>\n",
       "      <td>56949</td>\n",
       "    </tr>\n",
       "    <tr>\n",
       "      <th>51</th>\n",
       "      <td>2011-08-18</td>\n",
       "      <td>10:19:13.392</td>\n",
       "      <td>0.000</td>\n",
       "      <td>TCP</td>\n",
       "      <td>A_</td>\n",
       "      <td>0</td>\n",
       "      <td>1</td>\n",
       "      <td>66</td>\n",
       "      <td>1</td>\n",
       "      <td>LEGITIMATE</td>\n",
       "      <td>147.32.86.110</td>\n",
       "      <td>48102</td>\n",
       "      <td>74.125.232.214</td>\n",
       "      <td>443</td>\n",
       "    </tr>\n",
       "    <tr>\n",
       "      <th>57</th>\n",
       "      <td>2011-08-18</td>\n",
       "      <td>10:19:13.411</td>\n",
       "      <td>4.921</td>\n",
       "      <td>TCP</td>\n",
       "      <td>A_</td>\n",
       "      <td>0</td>\n",
       "      <td>49</td>\n",
       "      <td>3234</td>\n",
       "      <td>1</td>\n",
       "      <td>LEGITIMATE</td>\n",
       "      <td>147.32.85.88</td>\n",
       "      <td>56949</td>\n",
       "      <td>147.32.80.13</td>\n",
       "      <td>80</td>\n",
       "    </tr>\n",
       "    <tr>\n",
       "      <th>73</th>\n",
       "      <td>2011-08-18</td>\n",
       "      <td>10:19:13.460</td>\n",
       "      <td>4.742</td>\n",
       "      <td>TCP</td>\n",
       "      <td>A_</td>\n",
       "      <td>0</td>\n",
       "      <td>118</td>\n",
       "      <td>7080</td>\n",
       "      <td>1</td>\n",
       "      <td>LEGITIMATE</td>\n",
       "      <td>147.32.84.59</td>\n",
       "      <td>2768</td>\n",
       "      <td>74.125.108.208</td>\n",
       "      <td>80</td>\n",
       "    </tr>\n",
       "    <tr>\n",
       "      <th>75</th>\n",
       "      <td>2011-08-18</td>\n",
       "      <td>10:19:13.486</td>\n",
       "      <td>0.000</td>\n",
       "      <td>TCP</td>\n",
       "      <td>A_</td>\n",
       "      <td>0</td>\n",
       "      <td>1</td>\n",
       "      <td>60</td>\n",
       "      <td>1</td>\n",
       "      <td>LEGITIMATE</td>\n",
       "      <td>147.32.84.59</td>\n",
       "      <td>56058</td>\n",
       "      <td>74.125.232.215</td>\n",
       "      <td>443</td>\n",
       "    </tr>\n",
       "  </tbody>\n",
       "</table>\n",
       "</div>"
      ],
      "text/plain": [
       "     Date_flow         start  Durat  ... src_port          dst_ip  dst_port\n",
       "20  2011-08-18  10:19:13.347  4.985  ...       80    147.32.85.88     56949\n",
       "51  2011-08-18  10:19:13.392  0.000  ...    48102  74.125.232.214       443\n",
       "57  2011-08-18  10:19:13.411  4.921  ...    56949    147.32.80.13        80\n",
       "73  2011-08-18  10:19:13.460  4.742  ...     2768  74.125.108.208        80\n",
       "75  2011-08-18  10:19:13.486  0.000  ...    56058  74.125.232.215       443\n",
       "\n",
       "[5 rows x 14 columns]"
      ]
     },
     "execution_count": 33,
     "metadata": {
      "tags": []
     },
     "output_type": "execute_result"
    }
   ],
   "source": [
    "# Load scenario 10 data\n",
    "df = load_data('datasets/capture20110818.pcap.netflow.labeled')\n",
    "# Remove background flows\n",
    "df = df.loc[df['Label'] != 'Background']\n",
    "# Reset index\n",
    "df.reset_index(drop=True)\n",
    "df.head()"
   ]
  },
  {
   "cell_type": "code",
   "execution_count": 38,
   "metadata": {
    "colab": {
     "base_uri": "https://localhost:8080/",
     "height": 908
    },
    "colab_type": "code",
    "id": "qf7VxLqTf4V-",
    "outputId": "7ac96b37-305c-4840-92f6-bb7fdb7c3b80"
   },
   "outputs": [
    {
     "name": "stdout",
     "output_type": "stream",
     "text": [
      "---------- Netflows from infected hosts statistics----------\n",
      "              Durat      Tos  ...  Packets_code        result\n",
      "count  19889.000000  19889.0  ...  19889.000000  19889.000000\n",
      "mean       0.551279      0.0  ...      0.475288     10.047363\n",
      "std        1.436274      0.0  ...      1.182002      7.860744\n",
      "min        0.000000      0.0  ...      0.000000      0.000000\n",
      "25%        0.000000      0.0  ...      0.000000      7.000000\n",
      "50%        0.000000      0.0  ...      0.000000      7.000000\n",
      "75%        0.000000      0.0  ...      0.000000      7.000000\n",
      "max        4.999000      0.0  ...      4.000000     32.000000\n",
      "\n",
      "[8 rows x 8 columns]\n",
      "---------- Netflows from normal hosts statistics ----------\n",
      "              Durat      Tos  ...  Packets_code        result\n",
      "count  39925.000000  39925.0  ...  39925.000000  39925.000000\n",
      "mean       0.356154      0.0  ...      1.312561      6.923256\n",
      "std        1.045342      0.0  ...      1.590604     10.059189\n",
      "min        0.000000      0.0  ...      0.000000      0.000000\n",
      "25%        0.000000      0.0  ...      0.000000      0.000000\n",
      "50%        0.000000      0.0  ...      0.000000      0.000000\n",
      "75%        0.037000      0.0  ...      3.000000     10.000000\n",
      "max        4.999000      0.0  ...      4.000000     32.000000\n",
      "\n",
      "[8 rows x 8 columns]\n"
     ]
    },
    {
     "data": {
      "image/png": "[encoded data removed]",
      "text/plain": [
       "<Figure size 576x576 with 1 Axes>"
      ]
     },
     "metadata": {
      "tags": []
     },
     "output_type": "display_data"
    }
   ],
   "source": [
    "# Encode categorical features \n",
    "# labelencoder = LabelEncoder()\n",
    "# df['Prot'] = labelencoder.fit_transform(df['Prot'])\n",
    "# df['Flags'] = labelencoder.fit_transform(df['Flags'])\n",
    "\n",
    "# Choose infected and normal hosts\n",
    "infected_ip = '147.32.84.165'\n",
    "normal_ip = ['147.32.84.170', '147.32.84.134', '147.32.84.164', '147.32.87.36', '147.32.80.9', '147.32.87.11']\n",
    "\n",
    "# Separate infected and normal netflows\n",
    "normal_df = df.loc[df['src_ip'].isin(normal_ip)]\n",
    "infected_df = df.loc[df['src_ip'] == infected_ip]\n",
    "normal_df.reset_index(drop=True)\n",
    "infected_df.reset_index(drop=True)\n",
    "\n",
    "print(\"---------- Netflows from infected hosts statistics----------\")\n",
    "print(infected_df.describe(include=[np.number]))\n",
    "print(\"---------- Netflows from normal hosts statistics ----------\")\n",
    "print(normal_df.describe(include=[np.number]))\n",
    "\n",
    "# Visualize features\n",
    "plt.figure(figsize=(8,8))\n",
    "plt.scatter(infected_df['Packets'], infected_df['Bytes'], c='blue', alpha=0.5, label='Infected')\n",
    "plt.scatter(normal_df['Packets'], normal_df['Bytes'], c='red', alpha=0.5, label='Normal')\n",
    "plt.xlabel(\"Packets\")\n",
    "plt.ylabel(\"Bytes\")\n",
    "# plt.boxplot(infected_df['Packets'])\n",
    "plt.legend()\n",
    "plt.show()\n"
   ]
  },
  {
   "cell_type": "code",
   "execution_count": 8,
   "metadata": {
    "colab": {
     "base_uri": "https://localhost:8080/",
     "height": 573
    },
    "colab_type": "code",
    "id": "p_ykd64bf4WI",
    "outputId": "39db715e-e6b1-4fbd-f946-480e2e0e92a6"
   },
   "outputs": [
    {
     "data": {
      "image/png": "[encoded data removed]",
      "text/plain": [
       "<Figure size 432x288 with 1 Axes>"
      ]
     },
     "metadata": {
      "tags": []
     },
     "output_type": "display_data"
    },
    {
     "data": {
      "image/png": "[encoded data removed]",
      "text/plain": [
       "<Figure size 432x288 with 1 Axes>"
      ]
     },
     "metadata": {
      "tags": []
     },
     "output_type": "display_data"
    }
   ],
   "source": [
    "def elbow(feature):\n",
    "  Sum_of_squared_distances = []\n",
    "  K = range(1,15)\n",
    "  for k in K:\n",
    "      km = KMeans(n_clusters=k)\n",
    "      km = km.fit(df[feature].values.reshape(-1,1))\n",
    "      center = km.cluster_centers_\n",
    "      Sum_of_squared_distances.append(km.inertia_)\n",
    "\n",
    "  plt.plot(K, Sum_of_squared_distances, 'bx-')\n",
    "  plt.xlabel('k')\n",
    "  plt.ylabel('Sum_of_squared_distances')\n",
    "  plt.title('Elbow Method For Optimal k Of Feature %s' % feature)\n",
    "  plt.savefig('elbow_%s' % feature)\n",
    "  plt.show()\n",
    "  \n",
    "elbow('Bytes')\n",
    "elbow('Packets')"
   ]
  },
  {
   "cell_type": "code",
   "execution_count": 0,
   "metadata": {
    "colab": {},
    "colab_type": "code",
    "id": "s9xvjz5WjB3G"
   },
   "outputs": [],
   "source": [
    "# Function to get values at n-th percentiles from the given feature\n",
    "# e.g. bins = 5, will return 20 40 60 80 100th percentiles\n",
    "def get_percentile_values(bins, feature):\n",
    "  percentile = []\n",
    "\n",
    "  # Copy data to a list and sort it\n",
    "  values = df[feature].tolist()\n",
    "  values.sort()\n",
    "\n",
    "  for i in range(1, bins + 1):\n",
    "    percent = int((((100/bins) * i)/100) * len(values))\n",
    "    percentile.append(values[percent - 1])\n",
    "\n",
    "  print(\"The percentile of Feature %s with %d bins is %s\" % (feature, bins, percentile))\n",
    "  return percentile\n",
    "\n",
    "# Map a value to n-th percentile\n",
    "def encode_percentile(value, percentile):\n",
    "  length = len(percentile)\n",
    "  code = length - 1\n",
    "  \n",
    "  for i in range(0, length):\n",
    "    if(value <= percentile[i]):\n",
    "      code = i\n",
    "      break\n",
    "  return code\n",
    "\n",
    "def netflow_encoding(feature_values, bins_value):\n",
    "  spaceSize = np.prod(bins_value)\n",
    "  code = 0\n",
    "  \n",
    "  for i in range(len(bins_value)):\n",
    "    code += feature_values[i] * spaceSize / bins_value[i]\n",
    "    spaceSize /= bins_value[i]\n",
    "  \n",
    "  return code"
   ]
  },
  {
   "cell_type": "code",
   "execution_count": 35,
   "metadata": {
    "colab": {
     "base_uri": "https://localhost:8080/",
     "height": 51
    },
    "colab_type": "code",
    "id": "NXKy8hH_I1hn",
    "outputId": "ab58839c-c218-4312-a7a0-f4cb13db20fd"
   },
   "outputs": [
    {
     "name": "stdout",
     "output_type": "stream",
     "text": [
      "The percentile of Feature Bytes with 5 bins is [132, 1066, 1066, 2132, 24972468]\n",
      "The percentile of Feature Packets with 5 bins is [1, 1, 2, 5, 16937]\n"
     ]
    }
   ],
   "source": [
    "df['Bytes_code'] = 0\n",
    "percentile = get_percentile_values(5, 'Bytes')\n",
    "df['Bytes_code'] = df['Bytes'].apply(encode_percentile, args=[percentile])\n",
    "\n",
    "df['Packets_code'] = 0\n",
    "percentile = get_percentile_values(5, 'Packets')\n",
    "df['Packets_code'] = df['Packets'].apply(encode_percentile, args=[percentile])\n"
   ]
  },
  {
   "cell_type": "code",
   "execution_count": 36,
   "metadata": {
    "colab": {
     "base_uri": "https://localhost:8080/",
     "height": 281
    },
    "colab_type": "code",
    "id": "yVolTdoDLpCM",
    "outputId": "8bf6d8b0-dda4-4f65-bcc3-019a4684f9ea"
   },
   "outputs": [
    {
     "data": {
      "image/png": "[encoded data removed]",
      "text/plain": [
       "<Figure size 432x288 with 1 Axes>"
      ]
     },
     "metadata": {
      "tags": []
     },
     "output_type": "display_data"
    }
   ],
   "source": [
    "# Apply discretization to all hosts\n",
    "discretize_df = df[['Bytes_code', 'Packets_code']]\n",
    "result = discretize_df.apply(lambda x: netflow_encoding(x.tolist(), [5, 7]), axis = 1)\n",
    "\n",
    "df['result'] = 0\n",
    "df['result'] = result.values\n",
    "\n",
    "# Separate flows from normal hosts and infected hosts\n",
    "all_infected_ips = ['147.32.84.165', '147.32.84.191', '147.32.84.192']\n",
    "infected_df = df.loc[df['src_ip'].isin(all_infected_ips)]\n",
    "normal_df = df.loc[df['src_ip'].isin(normal_ip)]\n",
    "normal_df.reset_index(drop=True)\n",
    "infected_df.reset_index(drop=True)\n",
    "\n",
    "# Visualize\n",
    "plt.hist(normal_df['result'], color='r', label='Normal')\n",
    "plt.hist(infected_df['result'], color='g', label='Infected')\n",
    "plt.legend()\n",
    "plt.gca().set(title='Histogram of discretization', xlabel='Encode of bytes and packets', ylabel='Count')\n",
    "plt.show()"
   ]
  }
 ],
 "metadata": {
  "colab": {
   "collapsed_sections": [],
   "name": "discretization.ipynb",
   "provenance": [],
   "version": "0.3.2"
  },
  "kernelspec": {
   "display_name": "Python 3",
   "language": "python",
   "name": "python3"
  },
  "language_info": {
   "codemirror_mode": {
    "name": "ipython",
    "version": 3
   },
   "file_extension": ".py",
   "mimetype": "text/x-python",
   "name": "python",
   "nbconvert_exporter": "python",
   "pygments_lexer": "ipython3",
   "version": "3.6.8"
  }
 },
 "nbformat": 4,
 "nbformat_minor": 1
}
